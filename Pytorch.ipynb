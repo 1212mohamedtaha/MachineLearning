{
  "cells": [
    {
      "cell_type": "code",
      "execution_count": null,
      "metadata": {
        "id": "JFhHiS1BBp0e"
      },
      "outputs": [],
      "source": [
        "#create an environment\n",
        "#conda create -n pytorch python=3.7\n",
        "#conda activate pytorch\n",
        "#conda install pytorch ......."
      ]
    },
    {
      "cell_type": "code",
      "execution_count": null,
      "metadata": {
        "id": "iuKyL0H6IoYw"
      },
      "outputs": [],
      "source": [
        "import torch"
      ]
    },
    {
      "cell_type": "code",
      "execution_count": null,
      "metadata": {
        "colab": {
          "base_uri": "https://localhost:8080/"
        },
        "id": "kCevBrjxI431",
        "outputId": "22288810-882e-4600-c866-52c06a19a8e2"
      },
      "outputs": [
        {
          "data": {
            "text/plain": [
              "False"
            ]
          },
          "execution_count": 5,
          "metadata": {},
          "output_type": "execute_result"
        }
      ],
      "source": [
        "torch.cuda.is_available()"
      ]
    },
    {
      "cell_type": "markdown",
      "metadata": {
        "id": "VpxUICjOJMuV"
      },
      "source": [
        "#Working with tensors\n",
        "Tensors can have various dimentions"
      ]
    },
    {
      "cell_type": "code",
      "execution_count": null,
      "metadata": {
        "colab": {
          "base_uri": "https://localhost:8080/"
        },
        "id": "vVNGQ_NDI8mO",
        "outputId": "993a90bc-88f0-468b-8402-a2db98c7f44f"
      },
      "outputs": [
        {
          "name": "stdout",
          "output_type": "stream",
          "text": [
            "tensor([-3.0933e-30,  3.0882e-41,  1.0496e-32,  3.6753e-40])\n",
            "tensor([[[-4.8742e-30,  3.0882e-41,  0.0000e+00],\n",
            "         [ 0.0000e+00,  1.4013e-45,  0.0000e+00],\n",
            "         [ 0.0000e+00,  0.0000e+00,  0.0000e+00],\n",
            "         [ 0.0000e+00,  0.0000e+00,  0.0000e+00]],\n",
            "\n",
            "        [[-5.4103e-30,  3.0882e-41, -2.4855e-30],\n",
            "         [ 3.0882e-41,  5.5577e+02,  4.5552e-41],\n",
            "         [ 0.0000e+00,  0.0000e+00,  0.0000e+00],\n",
            "         [ 0.0000e+00,  0.0000e+00,  0.0000e+00]],\n",
            "\n",
            "        [[ 0.0000e+00,  0.0000e+00,  0.0000e+00],\n",
            "         [ 0.0000e+00,  0.0000e+00,  0.0000e+00],\n",
            "         [ 1.4013e-45,  0.0000e+00,  0.0000e+00],\n",
            "         [ 0.0000e+00,  0.0000e+00,  0.0000e+00]],\n",
            "\n",
            "        [[ 0.0000e+00,  0.0000e+00,  0.0000e+00],\n",
            "         [ 0.0000e+00,  0.0000e+00,  0.0000e+00],\n",
            "         [ 1.4013e-45,  0.0000e+00,  9.1845e-41],\n",
            "         [ 4.5989e-40,  1.4013e-45,  7.3491e-40]]])\n"
          ]
        }
      ],
      "source": [
        "#one dimentional empty tensor\n",
        "x = torch.empty(4)\n",
        "print(x)\n",
        "#three dimentional empty tensor\n",
        "y = torch.empty(4,4,3)\n",
        "print(y)\n"
      ]
    },
    {
      "cell_type": "code",
      "execution_count": null,
      "metadata": {
        "colab": {
          "base_uri": "https://localhost:8080/"
        },
        "id": "pZupHzqXJG2j",
        "outputId": "1e2e2d79-e41f-453a-c1cb-5ea599c60bc9"
      },
      "outputs": [
        {
          "name": "stdout",
          "output_type": "stream",
          "text": [
            "tensor([[0.6827, 0.9772],\n",
            "        [0.2425, 0.3135]])\n",
            "tensor([[0., 0.],\n",
            "        [0., 0.]])\n",
            "tensor([[1., 1.],\n",
            "        [1., 1.]])\n",
            "torch.float32\n",
            "torch.int32\n"
          ]
        }
      ],
      "source": [
        "tensor_with_random_variable = torch.rand(2,2)\n",
        "\n",
        "tensor_with_zeros = torch.zeros(2,2)\n",
        "\n",
        "tensor_with_ones = torch.ones(2,2)\n",
        "print(tensor_with_random_variable)\n",
        "print(tensor_with_zeros)\n",
        "print(tensor_with_ones)\n",
        "\n",
        "#Different DataTypes\n",
        "print(tensor_with_random_variable.dtype)\n",
        "\n",
        "#tensor_with_random_variable_type_changed = torch.rand(2,2 , dtype = torch.int )\n",
        "#The rand function is used to generate sampling from [0,1), so specifinc int date types breaks it.\n",
        "tensor_with_ones_type_changed = torch.ones(2,2 , dtype = torch.int )\n",
        "\n",
        "print(tensor_with_ones_type_changed.dtype)\n"
      ]
    },
    {
      "cell_type": "code",
      "execution_count": null,
      "metadata": {
        "colab": {
          "base_uri": "https://localhost:8080/"
        },
        "id": "6HT65e8WKWUC",
        "outputId": "5868cade-42c9-4d0c-c5e2-0204221fa3fd"
      },
      "outputs": [
        {
          "name": "stdout",
          "output_type": "stream",
          "text": [
            "tensor_with_ones.size <built-in method size of Tensor object at 0x7efb43fa9290>\n",
            "Tensor tensor([5, 5, 2, 5, 2, 9, 2, 4, 2, 5, 0, 7, 1, 3])\n",
            "Tensor3 tensor([ 10,  12,   3,  10,   4,  60, 516,   9,  26,  56,   1,  15,  21,  81])\n",
            "Tensor3 tensor([ 15,  17,   5,  15,   6,  69, 518,  13,  28,  61,   1,  22,  22,  84])\n",
            "Tensor4 tensor([   0,   -2,    1,    0,    0,  -42, -512,   -1,  -22,  -46,   -1,   -1,\n",
            "         -19,  -75])\n",
            "Tensor5 tensor([  25,   35,    2,   25,    4,  459, 1028,   20,   48,  255,    0,   56,\n",
            "          20,  234])\n",
            "Tensor6 tensor([1.0000, 0.7143, 2.0000, 1.0000, 1.0000, 0.1765, 0.0039, 0.8000, 0.0833,\n",
            "        0.0980, 0.0000, 0.8750, 0.0500, 0.0385])\n"
          ]
        }
      ],
      "source": [
        "#Tensor size\n",
        "print(\"tensor_with_ones.size\",tensor_with_ones.size)\n",
        "#Creating a tensor\n",
        "Tensor = torch.tensor([5,5,2,5,2,9,2,4,2,5,0,7,1,3])\n",
        "Tensor2 = torch.tensor([5,7,1,5,2,51,514,5,24,51,1,8,20,78])\n",
        "\n",
        "print(\"Tensor\",Tensor)\n",
        "\n",
        "#ERROR: The size of tensor a (10) must match the size of tensor b (14) at non-singleton dimension 0\n",
        "Tensor3 = Tensor + Tensor2\n",
        "Tensor3 = torch.add(Tensor , Tensor2)\n",
        "print(\"Tensor3\",Tensor3)\n",
        "#To modify tensor3 Every function with _ will do replacement\n",
        "Tensor3.add_(Tensor)\n",
        "print(\"Tensor3\",Tensor3)\n",
        "\n",
        "Tensor4 = Tensor - Tensor2\n",
        "Tensor4 = torch.sub(Tensor , Tensor2)\n",
        "print(\"Tensor4\",Tensor4)\n",
        "\n",
        "Tensor5 = Tensor * Tensor2\n",
        "Tensor5 = torch.mul(Tensor , Tensor2)\n",
        "print(\"Tensor5\",Tensor5)\n",
        "\n",
        "Tensor6 = Tensor / Tensor2\n",
        "Tensor6 = torch.div(Tensor , Tensor2)\n",
        "print(\"Tensor6\",Tensor6)"
      ]
    },
    {
      "cell_type": "code",
      "execution_count": null,
      "metadata": {
        "colab": {
          "base_uri": "https://localhost:8080/"
        },
        "id": "AznvSJXePBHc",
        "outputId": "4582f0e1-2716-4223-d467-a000aab90570"
      },
      "outputs": [
        {
          "name": "stdout",
          "output_type": "stream",
          "text": [
            "tensor([5, 5, 2, 5, 2])\n"
          ]
        }
      ],
      "source": [
        "#Slicing\n",
        "slices_Tensor = Tensor[:5]\n",
        "print(slices_Tensor)"
      ]
    },
    {
      "cell_type": "code",
      "execution_count": null,
      "metadata": {
        "colab": {
          "base_uri": "https://localhost:8080/"
        },
        "id": "XBGz7G3dSpgh",
        "outputId": "d20a24a7-c551-42c8-8453-f2d0424937e1"
      },
      "outputs": [
        {
          "name": "stdout",
          "output_type": "stream",
          "text": [
            "tensor([[0.8587, 0.1340, 0.3145, 0.7397],\n",
            "        [0.7306, 0.2512, 0.3909, 0.5898],\n",
            "        [0.2593, 0.9984, 0.1260, 0.0344],\n",
            "        [0.5948, 0.8401, 0.5720, 0.7759]])\n",
            "tensor([0.8587, 0.1340, 0.3145, 0.7397, 0.7306, 0.2512, 0.3909, 0.5898, 0.2593,\n",
            "        0.9984, 0.1260, 0.0344, 0.5948, 0.8401, 0.5720, 0.7759])\n",
            "tensor([[0.8587, 0.1340],\n",
            "        [0.3145, 0.7397],\n",
            "        [0.7306, 0.2512],\n",
            "        [0.3909, 0.5898],\n",
            "        [0.2593, 0.9984],\n",
            "        [0.1260, 0.0344],\n",
            "        [0.5948, 0.8401],\n",
            "        [0.5720, 0.7759]])\n"
          ]
        }
      ],
      "source": [
        " #rashaping\n",
        "Tensor = torch.rand(4,4)\n",
        "print(Tensor)\n",
        "#usin view\n",
        "view_Tensor = Tensor.view(16)\n",
        "#Error: shape '[12]' is invalid for input of size 16\n",
        "print(view_Tensor)\n",
        "#Automatically deciding a dimention\n",
        "view_Tensor = Tensor.view(-1, 2)\n",
        "print(view_Tensor)"
      ]
    },
    {
      "cell_type": "code",
      "execution_count": null,
      "metadata": {
        "colab": {
          "base_uri": "https://localhost:8080/"
        },
        "id": "FTR5CA4-TL5k",
        "outputId": "d2e4c672-3538-451c-d27b-011a8aff4c66"
      },
      "outputs": [
        {
          "name": "stdout",
          "output_type": "stream",
          "text": [
            "<class 'numpy.ndarray'>\n",
            "numpy_array [[0.28319687 0.11426038 0.1313324  0.52532405]\n",
            " [0.34612882 0.23940808 0.4483629  0.9990946 ]\n",
            " [0.4165432  0.22599709 0.73896474 0.5498919 ]\n",
            " [0.5375587  0.19477206 0.991163   0.91139656]]\n",
            "numpy_array [[0.56639373 0.22852075 0.2626648  1.0506481 ]\n",
            " [0.69225764 0.47881615 0.8967258  1.9981892 ]\n",
            " [0.8330864  0.45199418 1.4779295  1.0997838 ]\n",
            " [1.0751173  0.38954413 1.982326   1.8227931 ]]\n",
            "trnsor_from_numpy tensor([[0.5664, 0.2285, 0.2627, 1.0506],\n",
            "        [0.6923, 0.4788, 0.8967, 1.9982],\n",
            "        [0.8331, 0.4520, 1.4779, 1.0998],\n",
            "        [1.0751, 0.3895, 1.9823, 1.8228]])\n",
            "trnsor_from_numpy tensor([[1.5664, 1.2285, 1.2627, 2.0506],\n",
            "        [1.6923, 1.4788, 1.8967, 2.9982],\n",
            "        [1.8331, 1.4520, 2.4779, 2.0998],\n",
            "        [2.0751, 1.3895, 2.9823, 2.8228]])\n"
          ]
        }
      ],
      "source": [
        "#Converting to numpy\n",
        "import numpy as np \n",
        "Tensor = torch.rand(4,4)\n",
        "numpy_array = Tensor.numpy()\n",
        "print(type(numpy_array))\n",
        "print(\"numpy_array\",numpy_array)\n",
        "Tensor.add_(Tensor)\n",
        "print(\"numpy_array\",numpy_array)\n",
        "\n",
        "#If you modift the tensor, the numpy array will be modified\n",
        "\n",
        "#Converting from and to numpy\n",
        "trnsor_from_numpy = torch.from_numpy(numpy_array)\n",
        "print(\"trnsor_from_numpy\" , trnsor_from_numpy)\n",
        "numpy_array += 1\n",
        "print(\"trnsor_from_numpy\" , trnsor_from_numpy)\n"
      ]
    },
    {
      "cell_type": "code",
      "execution_count": null,
      "metadata": {
        "colab": {
          "base_uri": "https://localhost:8080/"
        },
        "id": "3dBTPxPda7YL",
        "outputId": "81f9b0eb-04ac-47a4-ae6a-3da8d78223d2"
      },
      "outputs": [
        {
          "name": "stdout",
          "output_type": "stream",
          "text": [
            "tensor([1., 1., 1., 1., 1.], requires_grad=True)\n"
          ]
        }
      ],
      "source": [
        "if torch.cuda.is_available():\n",
        "  device = torch.device(\"cuda\")\n",
        "  Tensor = torch.ones(5 , device = device)\n",
        "  #Or\n",
        "  CPU_Tensor = torch.ones(5)\n",
        "  GPU_Tensor = CPU_Tensor.to(device)\n",
        "# you can't convert a gpu tensor to numpy\n",
        "\n",
        "Tensor = torch.ones(5 , requires_grad=True)\n",
        "print(Tensor)\n",
        "#That will tell torch to optimize the gradients for this tensor later"
      ]
    },
    {
      "cell_type": "code",
      "execution_count": null,
      "metadata": {
        "colab": {
          "base_uri": "https://localhost:8080/"
        },
        "id": "33HLL1zodtBU",
        "outputId": "f212590e-af5c-4e87-9e8b-838cf68ab9c3"
      },
      "outputs": [
        {
          "name": "stdout",
          "output_type": "stream",
          "text": [
            "tensor([2.4874, 0.9578, 2.3693], grad_fn=<AddBackward0>)\n",
            "tensor([ 1.2125, -0.9982,  0.8750], grad_fn=<MulBackward0>)\n",
            "tensor(-0.0618, grad_fn=<MeanBackward0>)\n",
            "tensor([0.3333, 0.3333, 0.3333])\n"
          ]
        }
      ],
      "source": [
        "#Autograd package in pytorch\n",
        "import torch\n",
        "Tensor = torch.randn(3 , requires_grad=True)\n",
        "\n",
        "Tensor2 = Tensor + 2 \n",
        "print(Tensor2)\n",
        "Tensor3 = Tensor *Tensor2 \n",
        "print(Tensor3)\n",
        "Tensor4 = Tensor.mean() \n",
        "print(Tensor4)\n",
        "#Calculatng the gradient\n",
        "Tensor4.backward() # dTensor4 / dTensor\n",
        "print(Tensor.grad)\n",
        "#Error if grad is false  element 0 of tensors does not require grad and does not have a grad_fn\n",
        "\n",
        "#It calculates the gradient via a vector jacobian product\n"
      ]
    },
    {
      "cell_type": "code",
      "execution_count": null,
      "metadata": {
        "colab": {
          "base_uri": "https://localhost:8080/"
        },
        "id": "5jyMgka1fo2-",
        "outputId": "0aa9353e-b467-44cb-9c4f-f030b67271c6"
      },
      "outputs": [
        {
          "name": "stdout",
          "output_type": "stream",
          "text": [
            "tensor([ 0.2812, -1.5536, -0.4427], requires_grad=True)\n",
            "tensor([ 1.2812, -0.5536,  0.5573])\n"
          ]
        }
      ],
      "source": [
        "Tensor = torch.randn(3 , requires_grad=True)\n",
        "print(Tensor)\n",
        "#Three ways to prevent gradient requirements\n",
        "# 1\n",
        "# Tensor.requires_grad_(False)\n",
        "# print(Tensor)\n",
        "# 2\n",
        "# Tensor2 = Tensor.detach()\n",
        "# print(Tensor2)\n",
        "# 3\n",
        "with torch.no_grad():\n",
        "  Tensor2 = Tensor + 1\n",
        "  print(Tensor2)"
      ]
    },
    {
      "cell_type": "code",
      "execution_count": null,
      "metadata": {
        "colab": {
          "base_uri": "https://localhost:8080/",
          "height": 588
        },
        "id": "eTqrkiyznsTo",
        "outputId": "2556f853-7046-4bea-a94d-756b8977eb62"
      },
      "outputs": [
        {
          "name": "stdout",
          "output_type": "stream",
          "text": [
            "tensor([1., 1., 1., 1.])\n",
            "tensor([2., 2., 2., 2.])\n",
            "tensor([3., 3., 3., 3.])\n",
            "tensor([4., 4., 4., 4.])\n",
            "tensor(-2.)\n",
            "tensor([1., 1., 1., 1.])\n"
          ]
        },
        {
          "ename": "RuntimeError",
          "evalue": "ignored",
          "output_type": "error",
          "traceback": [
            "\u001b[0;31m---------------------------------------------------------------------------\u001b[0m",
            "\u001b[0;31mRuntimeError\u001b[0m                              Traceback (most recent call last)",
            "\u001b[0;32m<ipython-input-63-4ab001eca1dd>\u001b[0m in \u001b[0;36m<module>\u001b[0;34m()\u001b[0m\n\u001b[1;32m     13\u001b[0m   \u001b[0mweights\u001b[0m\u001b[0;34m.\u001b[0m\u001b[0mgrad\u001b[0m\u001b[0;34m.\u001b[0m\u001b[0mzero_\u001b[0m\u001b[0;34m(\u001b[0m\u001b[0;34m)\u001b[0m\u001b[0;34m\u001b[0m\u001b[0;34m\u001b[0m\u001b[0m\n\u001b[1;32m     14\u001b[0m   \u001b[0;31m#Backward pass\u001b[0m\u001b[0;34m\u001b[0m\u001b[0;34m\u001b[0m\u001b[0;34m\u001b[0m\u001b[0m\n\u001b[0;32m---> 15\u001b[0;31m   \u001b[0mloss\u001b[0m\u001b[0;34m.\u001b[0m\u001b[0mbackward\u001b[0m\u001b[0;34m(\u001b[0m\u001b[0;34m)\u001b[0m\u001b[0;34m\u001b[0m\u001b[0;34m\u001b[0m\u001b[0m\n\u001b[0m\u001b[1;32m     16\u001b[0m   \u001b[0mprint\u001b[0m\u001b[0;34m(\u001b[0m\u001b[0mw\u001b[0m\u001b[0;34m.\u001b[0m\u001b[0mgrad\u001b[0m\u001b[0;34m)\u001b[0m\u001b[0;34m\u001b[0m\u001b[0;34m\u001b[0m\u001b[0m\n",
            "\u001b[0;32m/usr/local/lib/python3.7/dist-packages/torch/_tensor.py\u001b[0m in \u001b[0;36mbackward\u001b[0;34m(self, gradient, retain_graph, create_graph, inputs)\u001b[0m\n\u001b[1;32m    305\u001b[0m                 \u001b[0mcreate_graph\u001b[0m\u001b[0;34m=\u001b[0m\u001b[0mcreate_graph\u001b[0m\u001b[0;34m,\u001b[0m\u001b[0;34m\u001b[0m\u001b[0;34m\u001b[0m\u001b[0m\n\u001b[1;32m    306\u001b[0m                 inputs=inputs)\n\u001b[0;32m--> 307\u001b[0;31m         \u001b[0mtorch\u001b[0m\u001b[0;34m.\u001b[0m\u001b[0mautograd\u001b[0m\u001b[0;34m.\u001b[0m\u001b[0mbackward\u001b[0m\u001b[0;34m(\u001b[0m\u001b[0mself\u001b[0m\u001b[0;34m,\u001b[0m \u001b[0mgradient\u001b[0m\u001b[0;34m,\u001b[0m \u001b[0mretain_graph\u001b[0m\u001b[0;34m,\u001b[0m \u001b[0mcreate_graph\u001b[0m\u001b[0;34m,\u001b[0m \u001b[0minputs\u001b[0m\u001b[0;34m=\u001b[0m\u001b[0minputs\u001b[0m\u001b[0;34m)\u001b[0m\u001b[0;34m\u001b[0m\u001b[0;34m\u001b[0m\u001b[0m\n\u001b[0m\u001b[1;32m    308\u001b[0m \u001b[0;34m\u001b[0m\u001b[0m\n\u001b[1;32m    309\u001b[0m     \u001b[0;32mdef\u001b[0m \u001b[0mregister_hook\u001b[0m\u001b[0;34m(\u001b[0m\u001b[0mself\u001b[0m\u001b[0;34m,\u001b[0m \u001b[0mhook\u001b[0m\u001b[0;34m)\u001b[0m\u001b[0;34m:\u001b[0m\u001b[0;34m\u001b[0m\u001b[0;34m\u001b[0m\u001b[0m\n",
            "\u001b[0;32m/usr/local/lib/python3.7/dist-packages/torch/autograd/__init__.py\u001b[0m in \u001b[0;36mbackward\u001b[0;34m(tensors, grad_tensors, retain_graph, create_graph, grad_variables, inputs)\u001b[0m\n\u001b[1;32m    154\u001b[0m     Variable._execution_engine.run_backward(\n\u001b[1;32m    155\u001b[0m         \u001b[0mtensors\u001b[0m\u001b[0;34m,\u001b[0m \u001b[0mgrad_tensors_\u001b[0m\u001b[0;34m,\u001b[0m \u001b[0mretain_graph\u001b[0m\u001b[0;34m,\u001b[0m \u001b[0mcreate_graph\u001b[0m\u001b[0;34m,\u001b[0m \u001b[0minputs\u001b[0m\u001b[0;34m,\u001b[0m\u001b[0;34m\u001b[0m\u001b[0;34m\u001b[0m\u001b[0m\n\u001b[0;32m--> 156\u001b[0;31m         allow_unreachable=True, accumulate_grad=True)  # allow_unreachable flag\n\u001b[0m\u001b[1;32m    157\u001b[0m \u001b[0;34m\u001b[0m\u001b[0m\n\u001b[1;32m    158\u001b[0m \u001b[0;34m\u001b[0m\u001b[0m\n",
            "\u001b[0;31mRuntimeError\u001b[0m: Trying to backward through the graph a second time (or directly access saved tensors after they have already been freed). Saved intermediate values of the graph are freed when you call .backward() or autograd.grad(). Specify retain_graph=True if you need to backward through the graph a second time or if you need to access saved tensors after calling backward."
          ]
        }
      ],
      "source": [
        "weights = torch.ones(4, requires_grad=True)\n",
        "for epoch in range(3):\n",
        "  model_output = (weights.sum())\n",
        "  model_output.backward()\n",
        "  print(weights.grad)\n",
        "  #It accumulates the gradients\n",
        "\n",
        "for epoch in range(3):\n",
        "  model_output = (weights.sum())\n",
        "  model_output.backward()\n",
        "  print(weights.grad)\n",
        "  #It accumulates the gradients\n",
        "  weights.grad.zero_()\n",
        "  "
      ]
    },
    {
      "cell_type": "code",
      "execution_count": null,
      "metadata": {
        "colab": {
          "base_uri": "https://localhost:8080/"
        },
        "id": "XoFNYL5opyaC",
        "outputId": "0edf32b0-5fc3-4abf-eace-f6bc54db79ac"
      },
      "outputs": [
        {
          "name": "stdout",
          "output_type": "stream",
          "text": [
            "tensor(1., grad_fn=<PowBackward0>)\n"
          ]
        }
      ],
      "source": [
        "#Backpropagation\n",
        "x = torch.tensor(1)\n",
        "y = torch.tensor(2)\n",
        "w = torch.tensor(1.0, requires_grad=True)\n",
        "#Error when assignint an int RuntimeError: Only Tensors of floating point and complex dtype can require gradients\n",
        "y_hat = w * x\n",
        "loss = (y_hat - y)**2\n",
        "print(loss)\n",
        "#Backward pass\n",
        "loss.backward()\n",
        "print(w.grad)\n",
        " "
      ]
    },
    {
      "cell_type": "code",
      "execution_count": null,
      "metadata": {
        "colab": {
          "base_uri": "https://localhost:8080/"
        },
        "id": "EI3e55fTwepf",
        "outputId": "09ab68fe-be7c-4cec-e532-921674227b00"
      },
      "outputs": [
        {
          "name": "stdout",
          "output_type": "stream",
          "text": [
            "9.999999890048837\n"
          ]
        }
      ],
      "source": [
        "#Manual gradient descent usinp Numpy\n",
        "import numpy as np\n",
        "X = np.array([1,2,3,4])\n",
        "Y = np.array([2,4,6,8])\n",
        "w = 0\n",
        "\n",
        "def forward(x):\n",
        "  return x*w\n",
        "def loss(y,y_predicted):\n",
        "  return np.mean((y - y_predicted)**2)\n",
        "def gradient(x,y,y_predicted):\n",
        "  return np.mean( np.dot(2*x , y_predicted - y) )\n",
        "\n",
        "#Training\n",
        "lr = 0.01\n",
        "n = 20\n",
        "\n",
        "for epoch in range(n):\n",
        "  y_pred = forward(X)\n",
        "\n",
        "  l = loss(Y , y_pred)\n",
        "\n",
        "  grad = gradient(X,Y,y_pred)\n",
        "  \n",
        "  w -= lr * grad\n",
        "\n",
        "print(forward(5))"
      ]
    },
    {
      "cell_type": "code",
      "execution_count": null,
      "metadata": {
        "colab": {
          "base_uri": "https://localhost:8080/"
        },
        "id": "w-9W51Ka72pL",
        "outputId": "3bfcedc4-7cfa-4d15-ef07-2843ab679734"
      },
      "outputs": [
        {
          "name": "stdout",
          "output_type": "stream",
          "text": [
            "tensor(9.6124, grad_fn=<MulBackward0>)\n"
          ]
        }
      ],
      "source": [
        "#Manual gradient descent Using Torch\n",
        "X = torch.tensor([1,2,3,4] , dtype = torch.float32)\n",
        "Y = torch.tensor([2,4,6,8], dtype = torch.float32)\n",
        "w = torch.tensor(0.0 , requires_grad = True, dtype = torch.float32)\n",
        "\n",
        "def forward(x):\n",
        "  return x*w\n",
        "def loss(y,y_predicted):\n",
        "  return ((y - y_predicted)**2).mean()\n",
        "# def gradient(x,y,y_predicted):\n",
        "#   return np.mean( np.dot(2*x , y_predicted - y) )\n",
        "\n",
        "#Training\n",
        "lr = 0.01\n",
        "n = 20 \n",
        "\n",
        "for epoch in range(n):\n",
        "  y_pred = forward(X)\n",
        "\n",
        "  l = loss(Y , y_pred)\n",
        "\n",
        "  l.backward()\n",
        "  # grad = gradient(X,Y,y_pred)\n",
        "  \n",
        "  with torch.no_grad():\n",
        "    w -= lr * w.grad\n",
        "  #For each epoch:\n",
        "  w.grad.zero_()\n",
        "print(forward(5))"
      ]
    },
    {
      "cell_type": "code",
      "execution_count": null,
      "metadata": {
        "colab": {
          "base_uri": "https://localhost:8080/"
        },
        "id": "4IC1Ngug9UNs",
        "outputId": "e28fa14c-7c82-48fb-cfb7-a18b18681fc2"
      },
      "outputs": [
        {
          "name": "stdout",
          "output_type": "stream",
          "text": [
            "9.332260131835938\n"
          ]
        }
      ],
      "source": [
        "# 1. Design input size and output size\n",
        "import torch.nn as nn\n",
        "X = torch.tensor([[1],[2],[3],[4]] , dtype = torch.float32)\n",
        "Y = torch.tensor([[2],[4],[6],[8]], dtype = torch.float32)\n",
        "w = torch.tensor(0.0 , requires_grad = True, dtype = torch.float32)\n",
        "\n",
        "n_samples,n_features = X.shape \n",
        "input_size = n_features\n",
        "output_size =  n_features\n",
        "\n",
        "# def forward(x):\n",
        "#   return x*w\n",
        "# X,Y now have different shapes\n",
        "model = nn.Linear( input_size , output_size )\n",
        "\n",
        "loss = nn.MSELoss()\n",
        "# w must be [w]\n",
        "optimizer = torch.optim.SGD(model.parameters() , lr = 0.01)\n",
        "n=20\n",
        "for epoch in range(n):\n",
        "  y_pred = model(X)\n",
        "\n",
        "  l = loss(Y , y_pred)\n",
        "\n",
        "  l.backward()\n",
        "  # grad = gradient(X,Y,y_pred)\n",
        "  \n",
        "  # with torch.no_grad():\n",
        "  #   w -= lr * w.grad\n",
        "  optimizer.step()\n",
        "  #For each epoch:\n",
        "  optimizer.zero_grad()\n",
        "X_test = torch.tensor([5], dtype =torch.float32)\n",
        "print(model(X_test).item())\n"
      ]
    },
    {
      "cell_type": "code",
      "execution_count": null,
      "metadata": {
        "colab": {
          "base_uri": "https://localhost:8080/"
        },
        "id": "gOa3iBocLGSB",
        "outputId": "9b98549c-92d6-40b0-8abc-221b38c7c129"
      },
      "outputs": [
        {
          "name": "stdout",
          "output_type": "stream",
          "text": [
            "9.63709831237793\n"
          ]
        }
      ],
      "source": [
        "#Using class\n",
        "\n",
        "# 1. Design input size and output size\n",
        "import torch.nn as nn\n",
        "X = torch.tensor([[1],[2],[3],[4]] , dtype = torch.float32)\n",
        "Y = torch.tensor([[2],[4],[6],[8]], dtype = torch.float32)\n",
        "w = torch.tensor(0.0 , requires_grad = True, dtype = torch.float32)\n",
        "\n",
        "n_samples,n_features = X.shape \n",
        "input_size = n_features\n",
        "output_size =  n_features\n",
        "\n",
        "# model = nn.Linear( input_size , output_size )\n",
        "class LinearRegression(nn.Module):\n",
        "  def __init__(self, input_dim ,  output_dim):\n",
        "    super(LinearRegression,self).__init__()\n",
        "\n",
        "    self.lin = nn.Linear(input_dim ,  output_dim)\n",
        "  def forward( self, x):\n",
        "    return self.lin(x)\n",
        "\n",
        "model = LinearRegression( input_size , output_size )\n",
        "loss = nn.MSELoss()\n",
        "# w must be [w]\n",
        "optimizer = torch.optim.SGD(model.parameters() , lr = 0.01)\n",
        "n=20\n",
        "for epoch in range(n):\n",
        "  y_pred = model(X)\n",
        "\n",
        "  l = loss(Y , y_pred)\n",
        "\n",
        "  l.backward()\n",
        "  # grad = gradient(X,Y,y_pred)\n",
        "  \n",
        "  # with torch.no_grad():\n",
        "  #   w -= lr * w.grad\n",
        "  optimizer.step()\n",
        "  #For each epoch:\n",
        "  optimizer.zero_grad()\n",
        "X_test = torch.tensor([5], dtype =torch.float32)\n",
        "print(model(X_test).item())\n"
      ]
    },
    {
      "cell_type": "code",
      "execution_count": null,
      "metadata": {
        "colab": {
          "base_uri": "https://localhost:8080/",
          "height": 525
        },
        "id": "jTf040nlUFF7",
        "outputId": "5377ed5e-00bd-4231-8b54-24a896de0314"
      },
      "outputs": [
        {
          "name": "stdout",
          "output_type": "stream",
          "text": [
            "epoch 0, loss = 5652.2812\n",
            "epoch 10, loss = 4185.1753\n",
            "epoch 20, loss = 3125.4680\n",
            "epoch 30, loss = 2359.1194\n",
            "epoch 40, loss = 1804.3063\n",
            "epoch 50, loss = 1402.2264\n",
            "epoch 60, loss = 1110.5581\n",
            "epoch 70, loss = 898.7964\n",
            "epoch 80, loss = 744.9258\n",
            "epoch 90, loss = 633.0370\n",
            "epoch 100, loss = 551.6205\n",
            "epoch 110, loss = 492.3394\n",
            "epoch 120, loss = 449.1511\n",
            "epoch 130, loss = 417.6704\n",
            "epoch 140, loss = 394.7124\n"
          ]
        },
        {
          "data": {
            "image/png": "[encoded data removed]",
            "text/plain": [
              "<Figure size 432x288 with 1 Axes>"
            ]
          },
          "metadata": {},
          "output_type": "display_data"
        }
      ],
      "source": [
        "import torch\n",
        "import torch.nn as nn\n",
        "import numpy as np \n",
        "from sklearn import datasets\n",
        "import matplotlib.pyplot as plt\n",
        "\n",
        "x_numpy , y_numpy = datasets.make_regression(n_samples=100, n_features=1,noise = 20, random_state = 1)\n",
        "x = torch.from_numpy(x_numpy.astype(np.float32))\n",
        "y = torch.from_numpy(y_numpy.astype(np.float32))\n",
        "y = y.view(y.shape[0], 1)\n",
        "n_samples,n_features = x.shape\n",
        "#model\n",
        "input_size = n_features\n",
        "output_size = 1\n",
        "model = nn.Linear(input_size,output_size)\n",
        "\n",
        "mse = nn.MSELoss()\n",
        "optimizer = torch.optim.SGD(model.parameters(),lr = 0.01)\n",
        "n = 150\n",
        "for epoch in range(n):\n",
        "  #forward\n",
        "  y_pred = model(x)\n",
        "\n",
        "\n",
        "  loss = mse(y_pred,y)\n",
        "  loss.backward() #thiswill sum up the grads unless you use optimizer.zero_grad()\n",
        "  optimizer.step()\n",
        "  optimizer.zero_grad()\n",
        "\n",
        "  if epoch % 10 == 0:\n",
        "    print(f'epoch {epoch}, loss = {loss.item():.4f}')\n",
        "#detach removes gradient\n",
        "predicted = model(x).detach().numpy()\n",
        "plt.plot(x_numpy,y_numpy, '*')\n",
        "plt.plot(x_numpy,predicted)\n",
        "plt.show()\n",
        "\n"
      ]
    },
    {
      "cell_type": "code",
      "execution_count": null,
      "metadata": {
        "colab": {
          "base_uri": "https://localhost:8080/"
        },
        "id": "yCHejdy4mcZT",
        "outputId": "0c54acc6-5239-4dfe-96b3-5a551514b52d"
      },
      "outputs": [
        {
          "name": "stdout",
          "output_type": "stream",
          "text": [
            "epoch 0, loss = 0.170\n",
            "epoch 10, loss = 0.067\n",
            "epoch 20, loss = 0.044\n",
            "epoch 30, loss = 0.035\n",
            "epoch 40, loss = 0.031\n",
            "epoch 50, loss = 0.028\n",
            "epoch 60, loss = 0.026\n",
            "epoch 70, loss = 0.025\n",
            "epoch 80, loss = 0.023\n",
            "epoch 90, loss = 0.022\n",
            "tensor(0.9737)\n"
          ]
        }
      ],
      "source": [
        "#Logistic Regression in pytorch\n",
        "import torch\n",
        "import torch.nn as nn\n",
        "import numpy as np \n",
        "from sklearn import datasets\n",
        "from sklearn.preprocessing import StandardScaler\n",
        "from sklearn.model_selection import train_test_split\n",
        "import matplotlib.pyplot as plt\n",
        "\n",
        "data = datasets.load_breast_cancer()\n",
        "x,y = data.data , data.target\n",
        "n_samples ,n_features= x.shape\n",
        "x_train,x_test,y_train,y_test = train_test_split(x,y,test_size = 0.2, random_state = 1)\n",
        "sc = StandardScaler()\n",
        "x_train = sc.fit_transform(x_train)\n",
        "x_test = sc.transform(x_test)\n",
        "\n",
        "x_train = torch.from_numpy(x_train.astype(np.float32))\n",
        "x_test = torch.from_numpy(x_test.astype(np.float32))\n",
        "y_train = torch.from_numpy(y_train.astype(np.float32))\n",
        "y_test = torch.from_numpy(y_test.astype(np.float32))\n",
        "\n",
        "y_train = y_train.view(-1,1)\n",
        "y_test = y_test.view(-1,1)\n",
        "\n",
        "#model\n",
        "class LogisticRegression(nn.Module):\n",
        "  def __init__(self, n_input_features):\n",
        "    super(LogisticRegression,self).__init__()\n",
        "    self.linear = nn.Linear(n_input_features , 1)\n",
        "\n",
        "  def forward(self, x):\n",
        "    y_pred = torch.sigmoid(self.linear(x))\n",
        "    return y_pred\n",
        "model = LogisticRegression(n_features)\n",
        "loss_function = nn.MSELoss()\n",
        "n = 100\n",
        "lr = 0.01\n",
        "optimizer = torch.optim.Adam(params=model.parameters(),lr=lr)\n",
        "\n",
        "\n",
        "\n",
        "for epoch in range(n):\n",
        "  y_pred = model(x_train)\n",
        "  loss = loss_function(y_pred,y_train)\n",
        "  loss.backward()\n",
        "  optimizer.step()\n",
        "  optimizer.zero_grad()\n",
        "  if epoch % 10 == 0:\n",
        "    print(f'epoch {epoch}, loss = {loss.item():.3f}')\n",
        "with torch.no_grad():\n",
        "  y_predicted = model(x_test)\n",
        "  y_predicted_class = y_predicted.round()\n",
        "  accuracy = y_predicted_class.eq(y_test).sum() / y_test.shape[0]\n",
        "  print(accuracy)\n",
        "\n",
        "\n",
        "\n",
        "\n"
      ]
    },
    {
      "cell_type": "code",
      "execution_count": null,
      "metadata": {
        "colab": {
          "base_uri": "https://localhost:8080/"
        },
        "id": "6PHkhhoex9UC",
        "outputId": "3c6102c1-164e-4ec9-ed22-398afc5e78c0"
      },
      "outputs": [
        {
          "name": "stdout",
          "output_type": "stream",
          "text": [
            "569 143\n",
            "epoch 1 step  1\n",
            "epoch 1 step  11\n",
            "epoch 1 step  21\n",
            "epoch 1 step  31\n",
            "epoch 1 step  41\n",
            "epoch 1 step  51\n",
            "epoch 1 step  61\n",
            "epoch 1 step  71\n",
            "epoch 1 step  81\n",
            "epoch 1 step  91\n",
            "epoch 1 step  101\n",
            "epoch 1 step  111\n",
            "epoch 1 step  121\n",
            "epoch 1 step  131\n",
            "epoch 1 step  141\n",
            "epoch 2 step  1\n",
            "epoch 2 step  11\n",
            "epoch 2 step  21\n",
            "epoch 2 step  31\n",
            "epoch 2 step  41\n",
            "epoch 2 step  51\n",
            "epoch 2 step  61\n",
            "epoch 2 step  71\n",
            "epoch 2 step  81\n",
            "epoch 2 step  91\n",
            "epoch 2 step  101\n",
            "epoch 2 step  111\n",
            "epoch 2 step  121\n",
            "epoch 2 step  131\n",
            "epoch 2 step  141\n"
          ]
        }
      ],
      "source": [
        "#Data loaders\n",
        "import torch\n",
        "import torchvision\n",
        "from torch.utils.data import Dataset, DataLoader\n",
        "import numpy as np\n",
        "import math\n",
        "class CancerDataset(Dataset):\n",
        "\n",
        " def __init__(self):\n",
        "     xy = datasets.load_breast_cancer()\n",
        "     self.x = torch.from_numpy(xy.data.astype(np.float32))\n",
        "     self.y = torch.from_numpy(xy.target.astype(np.float32))\n",
        "     self.n_samples = self.x.shape[0]\n",
        "\n",
        " def __getitem__(self,index):\n",
        "   return self.x[index] , self.y[index]\n",
        " def __len__(self):\n",
        "   return self.n_samples\n",
        "\n",
        "dataset = CancerDataset()\n",
        "dataloader = DataLoader(dataset = dataset , batch_size = 4, shuffle = True)\n",
        "# dataIter = iter(dataloader)\n",
        "# data  = dataIter.next()\n",
        "# print(data)\n",
        "\n",
        "n = 2\n",
        "n_samples = len(dataset)\n",
        "n_iter = math.ceil(n_samples / 4)\n",
        "print(n_samples,n_iter)\n",
        "for epoch in range(n):\n",
        "  for i , (inputs,labels) in enumerate(dataloader):\n",
        "    \n",
        "\n",
        "    if i % 10 == 0 :\n",
        "      print(f'epoch {epoch + 1 } step  {i + 1}')"
      ]
    },
    {
      "cell_type": "code",
      "execution_count": null,
      "metadata": {
        "colab": {
          "base_uri": "https://localhost:8080/"
        },
        "id": "ReT2EWYOxuVY",
        "outputId": "d9ab8c89-679f-4d86-aadd-2aca669c80d4"
      },
      "outputs": [
        {
          "name": "stdout",
          "output_type": "stream",
          "text": [
            "1.6981817483901978\n",
            "1.3150296211242676\n"
          ]
        }
      ],
      "source": [
        "def cross_entropy(actual, pred):\n",
        "  loss = - np.sum(actual * np.log(pred))\n",
        "  return loss\n",
        "loss = nn.CrossEntropyLoss()\n",
        "\n",
        "Y = torch.tensor([2,0,1])\n",
        "# predictions must be of dim = n_samples * n_classes\n",
        "y_pred = torch.tensor([ [2.0,1.0,0.1], [3.0,1.7,0.2],[2.1,.01,1.1] ])\n",
        "y_pred_2 = torch.tensor([ [0.5,2.0,1.1],[1.8,2.0,0.7],[1.1,0.3,.9] ]) \n",
        "l = loss(y_pred,Y)\n",
        "l2 = loss(y_pred_2,Y)\n",
        "\n",
        "print(l.item())\n",
        "print(l2.item())\n",
        "\n"
      ]
    },
    {
      "cell_type": "markdown",
      "metadata": {
        "id": "qvUYt5sSWoxj"
      },
      "source": [
        "#Neural Networks"
      ]
    },
    {
      "cell_type": "code",
      "execution_count": null,
      "metadata": {
        "id": "E48iZhlYUvwB"
      },
      "outputs": [],
      "source": [
        "import torch\n",
        "import torch.nn as nn\n",
        "import torch.nn.functional as F\n",
        "class NeuralNet(nn.Module):\n",
        "  def __init__(self,input_size,hidden_size, num_classes):\n",
        "    super(NeuralNet,self).__init__()\n",
        "    self.linear1 = nn.Linear(input_size,hidden_size)\n",
        "    self.relu = nn.ReLU()\n",
        "    self.linear2 = nn.Linear(hidden_size, num_classes)\n",
        "  def forward(self , x):\n",
        "    out = self.linear1(x)\n",
        "    out = self.relu(out)\n",
        "    out = self.linear2(out)\n",
        "    return out\n",
        "\n",
        "model = NeuralNet(input_size = 28*28, hidden_size=5, num_classes=5)\n",
        "loss_fun = nn.CrossEntropyLoss()"
      ]
    },
    {
      "cell_type": "code",
      "execution_count": null,
      "metadata": {
        "colab": {
          "background_save": true,
          "referenced_widgets": [
            "4fa4ca96c588415084ea1788a6d12a3d",
            "57480cb325c7468fb7e89db54ffd6bd7",
            "40d069c4264344d999a3f3b211cc1cc8",
            "1346804af5874a86872c8d4ebd0ae485"
          ]
        },
        "id": "ieRNZMY9aV1T",
        "outputId": "844861de-bc31-4cd5-f8cb-465e39ec4368"
      },
      "outputs": [
        {
          "name": "stdout",
          "output_type": "stream",
          "text": [
            "Downloading http://yann.lecun.com/exdb/mnist/train-images-idx3-ubyte.gz\n",
            "Downloading http://yann.lecun.com/exdb/mnist/train-images-idx3-ubyte.gz to ./data/MNIST/raw/train-images-idx3-ubyte.gz\n"
          ]
        },
        {
          "data": {
            "application/vnd.jupyter.widget-view+json": {
              "model_id": "4fa4ca96c588415084ea1788a6d12a3d",
              "version_major": 2,
              "version_minor": 0
            },
            "text/plain": [
              "  0%|          | 0/9912422 [00:00<?, ?it/s]"
            ]
          },
          "metadata": {},
          "output_type": "display_data"
        },
        {
          "name": "stdout",
          "output_type": "stream",
          "text": [
            "Extracting ./data/MNIST/raw/train-images-idx3-ubyte.gz to ./data/MNIST/raw\n",
            "\n",
            "Downloading http://yann.lecun.com/exdb/mnist/train-labels-idx1-ubyte.gz\n",
            "Downloading http://yann.lecun.com/exdb/mnist/train-labels-idx1-ubyte.gz to ./data/MNIST/raw/train-labels-idx1-ubyte.gz\n"
          ]
        },
        {
          "data": {
            "application/vnd.jupyter.widget-view+json": {
              "model_id": "57480cb325c7468fb7e89db54ffd6bd7",
              "version_major": 2,
              "version_minor": 0
            },
            "text/plain": [
              "  0%|          | 0/28881 [00:00<?, ?it/s]"
            ]
          },
          "metadata": {},
          "output_type": "display_data"
        },
        {
          "name": "stdout",
          "output_type": "stream",
          "text": [
            "Extracting ./data/MNIST/raw/train-labels-idx1-ubyte.gz to ./data/MNIST/raw\n",
            "\n",
            "Downloading http://yann.lecun.com/exdb/mnist/t10k-images-idx3-ubyte.gz\n",
            "Downloading http://yann.lecun.com/exdb/mnist/t10k-images-idx3-ubyte.gz to ./data/MNIST/raw/t10k-images-idx3-ubyte.gz\n"
          ]
        },
        {
          "data": {
            "application/vnd.jupyter.widget-view+json": {
              "model_id": "40d069c4264344d999a3f3b211cc1cc8",
              "version_major": 2,
              "version_minor": 0
            },
            "text/plain": [
              "  0%|          | 0/1648877 [00:00<?, ?it/s]"
            ]
          },
          "metadata": {},
          "output_type": "display_data"
        },
        {
          "name": "stdout",
          "output_type": "stream",
          "text": [
            "Extracting ./data/MNIST/raw/t10k-images-idx3-ubyte.gz to ./data/MNIST/raw\n",
            "\n",
            "Downloading http://yann.lecun.com/exdb/mnist/t10k-labels-idx1-ubyte.gz\n",
            "Downloading http://yann.lecun.com/exdb/mnist/t10k-labels-idx1-ubyte.gz to ./data/MNIST/raw/t10k-labels-idx1-ubyte.gz\n"
          ]
        },
        {
          "data": {
            "application/vnd.jupyter.widget-view+json": {
              "model_id": "1346804af5874a86872c8d4ebd0ae485",
              "version_major": 2,
              "version_minor": 0
            },
            "text/plain": [
              "  0%|          | 0/4542 [00:00<?, ?it/s]"
            ]
          },
          "metadata": {},
          "output_type": "display_data"
        },
        {
          "name": "stdout",
          "output_type": "stream",
          "text": [
            "Extracting ./data/MNIST/raw/t10k-labels-idx1-ubyte.gz to ./data/MNIST/raw\n",
            "\n",
            "torch.Size([100, 1, 28, 28]) torch.Size([100])\n"
          ]
        },
        {
          "ename": "NameError",
          "evalue": "ignored",
          "output_type": "error",
          "traceback": [
            "\u001b[0;31m---------------------------------------------------------------------------\u001b[0m",
            "\u001b[0;31mNameError\u001b[0m                                 Traceback (most recent call last)",
            "\u001b[0;32m<ipython-input-1-c8d048255425>\u001b[0m in \u001b[0;36m<module>\u001b[0;34m()\u001b[0m\n\u001b[1;32m     46\u001b[0m \u001b[0moptimizer\u001b[0m \u001b[0;34m=\u001b[0m \u001b[0mtorch\u001b[0m\u001b[0;34m.\u001b[0m\u001b[0moptim\u001b[0m\u001b[0;34m.\u001b[0m\u001b[0mAdam\u001b[0m\u001b[0;34m(\u001b[0m\u001b[0mmodel\u001b[0m\u001b[0;34m.\u001b[0m\u001b[0mparameters\u001b[0m\u001b[0;34m(\u001b[0m\u001b[0;34m)\u001b[0m\u001b[0;34m,\u001b[0m\u001b[0mlr\u001b[0m \u001b[0;34m=\u001b[0m \u001b[0mlr\u001b[0m \u001b[0;34m)\u001b[0m\u001b[0;34m\u001b[0m\u001b[0;34m\u001b[0m\u001b[0m\n\u001b[1;32m     47\u001b[0m \u001b[0mn_total_steps\u001b[0m \u001b[0;34m=\u001b[0m \u001b[0mlen\u001b[0m\u001b[0;34m(\u001b[0m\u001b[0mtrain_loader\u001b[0m\u001b[0;34m)\u001b[0m\u001b[0;34m\u001b[0m\u001b[0;34m\u001b[0m\u001b[0m\n\u001b[0;32m---> 48\u001b[0;31m \u001b[0;32mfor\u001b[0m \u001b[0mepoch\u001b[0m \u001b[0;32min\u001b[0m \u001b[0mrange\u001b[0m\u001b[0;34m(\u001b[0m\u001b[0mnum_epochs\u001b[0m\u001b[0;34m)\u001b[0m\u001b[0;34m:\u001b[0m\u001b[0;34m\u001b[0m\u001b[0;34m\u001b[0m\u001b[0m\n\u001b[0m\u001b[1;32m     49\u001b[0m   \u001b[0;32mfor\u001b[0m \u001b[0mi\u001b[0m \u001b[0;34m,\u001b[0m \u001b[0;34m(\u001b[0m\u001b[0mimages\u001b[0m\u001b[0;34m,\u001b[0m\u001b[0mlabels\u001b[0m\u001b[0;34m)\u001b[0m \u001b[0;32min\u001b[0m \u001b[0menumerate\u001b[0m\u001b[0;34m(\u001b[0m\u001b[0mtrain_loader\u001b[0m\u001b[0;34m)\u001b[0m\u001b[0;34m:\u001b[0m\u001b[0;34m\u001b[0m\u001b[0;34m\u001b[0m\u001b[0m\n\u001b[1;32m     50\u001b[0m     \u001b[0;31m#reshaping\u001b[0m\u001b[0;34m\u001b[0m\u001b[0;34m\u001b[0m\u001b[0;34m\u001b[0m\u001b[0m\n",
            "\u001b[0;31mNameError\u001b[0m: name 'num_epochs' is not defined"
          ]
        },
        {
          "data": {
            "image/png": "[encoded data removed]",
            "text/plain": [
              "<Figure size 432x288 with 12 Axes>"
            ]
          },
          "metadata": {},
          "output_type": "display_data"
        }
      ],
      "source": [
        "#Feed Forward Neural network\n",
        "import torch\n",
        "import torch.nn as nn\n",
        "import torchvision\n",
        "import torchvision.transforms as transforms\n",
        "import matplotlib.pyplot as plt\n",
        "device  = torch.device('cuda' if torch.cuda.is_available() else 'cpu')\n",
        "\n",
        "input_size = 28*28\n",
        "hidden_size = 100\n",
        "num_classes = 10\n",
        "batch_size = 100\n",
        "\n",
        "n = 2\n",
        "lr = 0.01\n",
        "\n",
        "train_dataset = torchvision.datasets.MNIST(download=True,root = './data' , train=True,\n",
        "  transform = transforms.ToTensor())\n",
        "test_dataset = torchvision.datasets.MNIST(root = './data' , train=False,\n",
        "  transform = transforms.ToTensor())\n",
        "\n",
        "train_loader = torch.utils.data.DataLoader(dataset=train_dataset,batch_size = batch_size, shuffle = True )\n",
        "test_loader = torch.utils.data.DataLoader(dataset=test_dataset,batch_size = batch_size, shuffle = False )\n",
        "\n",
        "examples = iter(train_loader)\n",
        "samples, labels = examples.next()\n",
        "print(samples.shape, labels.shape)\n",
        "for i in range(12):\n",
        "  plt.subplot(3,4, i+1)\n",
        "  plt.imshow(samples[i][0])\n",
        "\n",
        "class NeuralNet(nn.Module):\n",
        "  def __init__(self,input_size,hidden_size, num_classes):\n",
        "    super(NeuralNet,self).__init__()\n",
        "    self.linear1 = nn.Linear(input_size,hidden_size)\n",
        "    self.relu = nn.ReLU()\n",
        "    self.linear2 = nn.Linear(hidden_size, num_classes)\n",
        "  def forward(self , x):\n",
        "    out = self.linear1(x)\n",
        "    out = self.relu(out)\n",
        "    out = self.linear2(out)\n",
        "    return out\n",
        "\n",
        "model = NeuralNet(input_size = 28*28, hidden_size=5, num_classes=10)\n",
        "loss_fun = nn.CrossEntropyLoss()\n",
        "optimizer = torch.optim.Adam(model.parameters(),lr = lr )\n",
        "n_total_steps = len(train_loader)\n",
        "for epoch in range(num_epochs):\n",
        "  for i , (images,labels) in enumerate(train_loader):\n",
        "    #reshaping\n",
        "    images = images.reshape(-1, 28*28).to(device)\n",
        "    labels =  labels.to(device)\n",
        "\n",
        "    outputs = model(images)\n",
        "    loss = loss_fun(outputs, labels)\n",
        "    \n",
        "    optimizer.zero_grad()\n",
        "\n",
        "    loss.backward()\n",
        "    optimizer.step()\n",
        "\n",
        "    if i %100 ==0:\n",
        "      print(f'epoch {epoch} , step {i} , loss = {loss.item()}')\n",
        "\n",
        "with torch.no_grad():\n",
        "  n_correct = 0\n",
        "  n_samples = 0\n",
        "  for i , (images,labels) in enumerate(train_loader):\n",
        "    #reshaping\n",
        "    images = images.reshape(-1, 28*28).to(device)\n",
        "    labels =  labels.to(device)\n",
        "\n",
        "    outputs = model(images)\n",
        "    _ , predictions = torch.max(outputs , 1)\n",
        "    n_samples += labels.shape[0]\n",
        "    n_correct = (predictions == labels).sum().item()\n",
        "    print(f'accuracy {n_samples / n_correct}')\n",
        "    \n",
        "\n",
        "\n",
        "\n",
        "    \n",
        "\n",
        "\n",
        "\n",
        "\n"
      ]
    },
    {
      "cell_type": "code",
      "execution_count": null,
      "metadata": {
        "id": "Vf_Pmy2keVq9"
      },
      "outputs": [],
      "source": [
        ""
      ]
    }
  ],
  "metadata": {
    "colab": {
      "name": "Pytorch.ipynb",
      "provenance": []
    },
    "kernelspec": {
      "display_name": "Python 3",
      "name": "python3"
    },
    "language_info": {
      "name": "python"
    }
  },
  "nbformat": 4,
  "nbformat_minor": 0
}